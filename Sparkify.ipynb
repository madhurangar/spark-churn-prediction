{
 "cells": [
  {
   "cell_type": "markdown",
   "metadata": {},
   "source": [
    "# Sparkify Project Workspace\n",
    "This workspace contains a tiny subset (128MB) of the full dataset available (12GB). Feel free to use this workspace to build your project, or to explore a smaller subset with Spark before deploying your cluster on the cloud. Instructions for setting up your Spark cluster is included in the last lesson of the Extracurricular Spark Course content.\n",
    "\n",
    "You can follow the steps below to guide your data analysis and model building portion of this project."
   ]
  },
  {
   "cell_type": "code",
   "execution_count": 1,
   "metadata": {},
   "outputs": [],
   "source": [
    "from pyspark.sql import SparkSession\n",
    "from pyspark.sql import functions as f\n",
    "from pyspark.sql.types import IntegerType\n",
    "from pyspark.sql.window import Window"
   ]
  },
  {
   "cell_type": "code",
   "execution_count": 21,
   "metadata": {},
   "outputs": [],
   "source": [
    "import datetime\n",
    "import pandas as pd\n",
    "import seaborn as sns"
   ]
  },
  {
   "cell_type": "code",
   "execution_count": 3,
   "metadata": {},
   "outputs": [],
   "source": [
    "from pyspark.ml import Pipeline\n",
    "from pyspark.ml.feature import Normalizer, StandardScaler, VectorAssembler\n",
    "from pyspark.ml.classification import LogisticRegression, RandomForestClassifier, GBTClassifier, DecisionTreeClassifier\n",
    "from pyspark.ml.evaluation import MulticlassClassificationEvaluator\n",
    "from pyspark.ml.tuning import CrossValidator, ParamGridBuilder"
   ]
  },
  {
   "cell_type": "code",
   "execution_count": 4,
   "metadata": {},
   "outputs": [],
   "source": [
    "# create a Spark session\n",
    "spark = SparkSession \\\n",
    "    .builder \\\n",
    "    .appName(\"Sparkify\") \\\n",
    "    .getOrCreate()"
   ]
  },
  {
   "cell_type": "markdown",
   "metadata": {},
   "source": [
    "# Load and Clean Dataset\n",
    "In this workspace, the mini-dataset file is `mini_sparkify_event_data.json`. Load and clean the dataset, checking for invalid or missing data - for example, records without userids or sessionids. "
   ]
  },
  {
   "cell_type": "code",
   "execution_count": 5,
   "metadata": {},
   "outputs": [
    {
     "name": "stdout",
     "output_type": "stream",
     "text": [
      "archive.tar.gz\t\t       Sparkify.ipynb\r\n",
      "mini_sparkify_event_data.json  Sparkify-zh.ipynb\r\n"
     ]
    }
   ],
   "source": [
    "!ls"
   ]
  },
  {
   "cell_type": "code",
   "execution_count": 6,
   "metadata": {},
   "outputs": [
    {
     "data": {
      "text/plain": [
       "DataFrame[artist: string, auth: string, firstName: string, gender: string, itemInSession: bigint, lastName: string, length: double, level: string, location: string, method: string, page: string, registration: bigint, sessionId: bigint, song: string, status: bigint, ts: bigint, userAgent: string, userId: string]"
      ]
     },
     "execution_count": 6,
     "metadata": {},
     "output_type": "execute_result"
    }
   ],
   "source": [
    "data = 'mini_sparkify_event_data.json'\n",
    "df = spark.read.json(data)\n",
    "df.persist()"
   ]
  },
  {
   "cell_type": "code",
   "execution_count": 7,
   "metadata": {},
   "outputs": [
    {
     "data": {
      "text/plain": [
       "[Row(artist='Martha Tilston', auth='Logged In', firstName='Colin', gender='M', itemInSession=50, lastName='Freeman', length=277.89016, level='paid', location='Bakersfield, CA', method='PUT', page='NextSong', registration=1538173362000, sessionId=29, song='Rockpools', status=200, ts=1538352117000, userAgent='Mozilla/5.0 (Windows NT 6.1; WOW64; rv:31.0) Gecko/20100101 Firefox/31.0', userId='30')]"
      ]
     },
     "execution_count": 7,
     "metadata": {},
     "output_type": "execute_result"
    }
   ],
   "source": [
    "df.take(1)"
   ]
  },
  {
   "cell_type": "code",
   "execution_count": 8,
   "metadata": {},
   "outputs": [
    {
     "name": "stdout",
     "output_type": "stream",
     "text": [
      "there are 286500 datapoints\n"
     ]
    }
   ],
   "source": [
    "print(f\"there are {df.count()} datapoints\")"
   ]
  },
  {
   "cell_type": "code",
   "execution_count": 9,
   "metadata": {},
   "outputs": [
    {
     "data": {
      "text/plain": [
       "286500"
      ]
     },
     "execution_count": 9,
     "metadata": {},
     "output_type": "execute_result"
    }
   ],
   "source": [
    "# drop NA values (in userId and sessionId)\n",
    "df = df.dropna(how = \"any\", subset = [\"userId\", \"sessionId\"])\n",
    "df.count()"
   ]
  },
  {
   "cell_type": "markdown",
   "metadata": {},
   "source": [
    "lookslike there are no `NA` values in `userId` and `sessionId`. But look for empty srtings in  `userId`."
   ]
  },
  {
   "cell_type": "code",
   "execution_count": 10,
   "metadata": {},
   "outputs": [
    {
     "name": "stdout",
     "output_type": "stream",
     "text": [
      "+------+-----+\n",
      "|userId|count|\n",
      "+------+-----+\n",
      "|      | 8346|\n",
      "|    10|  795|\n",
      "|   100| 3214|\n",
      "|100001|  187|\n",
      "|100002|  218|\n",
      "|100003|   78|\n",
      "|100004| 1245|\n",
      "|100005|  216|\n",
      "|100006|   44|\n",
      "|100007|  520|\n",
      "|100008|  940|\n",
      "|100009|  671|\n",
      "|100010|  381|\n",
      "|100011|   23|\n",
      "|100012|  600|\n",
      "|100013| 1392|\n",
      "|100014|  310|\n",
      "|100015| 1050|\n",
      "|100016|  638|\n",
      "|100017|   75|\n",
      "+------+-----+\n",
      "only showing top 20 rows\n",
      "\n"
     ]
    }
   ],
   "source": [
    "df.groupBy(\"userId\").count().orderBy(\"userId\").show()"
   ]
  },
  {
   "cell_type": "markdown",
   "metadata": {},
   "source": [
    "there are 8346 user ids having empty string as its id. remove them."
   ]
  },
  {
   "cell_type": "code",
   "execution_count": 11,
   "metadata": {},
   "outputs": [
    {
     "data": {
      "text/plain": [
       "278154"
      ]
     },
     "execution_count": 11,
     "metadata": {},
     "output_type": "execute_result"
    }
   ],
   "source": [
    "df = df.filter(df.userId != \"\")\n",
    "df.count()"
   ]
  },
  {
   "cell_type": "markdown",
   "metadata": {},
   "source": [
    "# Exploratory Data Analysis\n",
    "When you're working with the full dataset, perform EDA by loading a small subset of the data and doing basic manipulations within Spark. In this workspace, you are already provided a small subset of data you can explore.\n",
    "\n",
    "### Define Churn\n",
    "\n",
    "Once you've done some preliminary analysis, create a column `Churn` to use as the label for your model. I suggest using the `Cancellation Confirmation` events to define your churn, which happen for both paid and free users. As a bonus task, you can also look into the `Downgrade` events.\n",
    "\n",
    "### Explore Data\n",
    "Once you've defined churn, perform some exploratory data analysis to observe the behavior for users who stayed vs users who churned. You can start by exploring aggregates on these two groups of users, observing how much of a specific action they experienced per a certain time unit or number of songs played."
   ]
  },
  {
   "cell_type": "code",
   "execution_count": 12,
   "metadata": {},
   "outputs": [
    {
     "name": "stdout",
     "output_type": "stream",
     "text": [
      "root\n",
      " |-- artist: string (nullable = true)\n",
      " |-- auth: string (nullable = true)\n",
      " |-- firstName: string (nullable = true)\n",
      " |-- gender: string (nullable = true)\n",
      " |-- itemInSession: long (nullable = true)\n",
      " |-- lastName: string (nullable = true)\n",
      " |-- length: double (nullable = true)\n",
      " |-- level: string (nullable = true)\n",
      " |-- location: string (nullable = true)\n",
      " |-- method: string (nullable = true)\n",
      " |-- page: string (nullable = true)\n",
      " |-- registration: long (nullable = true)\n",
      " |-- sessionId: long (nullable = true)\n",
      " |-- song: string (nullable = true)\n",
      " |-- status: long (nullable = true)\n",
      " |-- ts: long (nullable = true)\n",
      " |-- userAgent: string (nullable = true)\n",
      " |-- userId: string (nullable = true)\n",
      "\n"
     ]
    }
   ],
   "source": [
    "# show schema\n",
    "df.printSchema()"
   ]
  },
  {
   "cell_type": "code",
   "execution_count": 13,
   "metadata": {},
   "outputs": [
    {
     "name": "stdout",
     "output_type": "stream",
     "text": [
      "+--------------------+\n",
      "|                page|\n",
      "+--------------------+\n",
      "|              Cancel|\n",
      "|    Submit Downgrade|\n",
      "|         Thumbs Down|\n",
      "|                Home|\n",
      "|           Downgrade|\n",
      "|         Roll Advert|\n",
      "|              Logout|\n",
      "|       Save Settings|\n",
      "|Cancellation Conf...|\n",
      "|               About|\n",
      "+--------------------+\n",
      "only showing top 10 rows\n",
      "\n"
     ]
    }
   ],
   "source": [
    "# type of pages\n",
    "df.select(\"page\").dropDuplicates().show(10)"
   ]
  },
  {
   "cell_type": "code",
   "execution_count": 14,
   "metadata": {},
   "outputs": [],
   "source": [
    "# convert time to 24h\n",
    "fix_time = f.udf(lambda x:datetime.datetime.fromtimestamp(x/1000.0).hour)\n",
    "df = df.withColumn(\"time\", fix_time(df.ts))"
   ]
  },
  {
   "cell_type": "code",
   "execution_count": 15,
   "metadata": {},
   "outputs": [
    {
     "name": "stdout",
     "output_type": "stream",
     "text": [
      "+----+-----+\n",
      "|time|count|\n",
      "+----+-----+\n",
      "|   0| 9062|\n",
      "|   1| 8388|\n",
      "|   2| 8336|\n",
      "|   3| 8355|\n",
      "|   4| 8147|\n",
      "|   5| 8178|\n",
      "|   6| 8054|\n",
      "|   7| 8091|\n",
      "|   8| 8253|\n",
      "|   9| 8498|\n",
      "|  10| 8882|\n",
      "|  11| 8830|\n",
      "|  12| 9326|\n",
      "|  13| 9644|\n",
      "|  14|10494|\n",
      "|  15|11354|\n",
      "|  16|11636|\n",
      "|  17|11460|\n",
      "|  18|11124|\n",
      "|  19|10930|\n",
      "|  20|10856|\n",
      "|  21|10458|\n",
      "|  22|10122|\n",
      "|  23| 9630|\n",
      "+----+-----+\n",
      "\n"
     ]
    }
   ],
   "source": [
    "df.filter(df.page == \"NextSong\").groupby(df.time).count().orderBy(df.time.cast(\"float\")).show(24)"
   ]
  },
  {
   "cell_type": "code",
   "execution_count": 16,
   "metadata": {
    "scrolled": true
   },
   "outputs": [],
   "source": [
    "# account cancellation\n",
    "churn = f.udf(lambda x:1 if x==\"Cancellation Confirmation\" else 0, IntegerType())\n",
    "df = df.withColumn(\"userChurn\", churn(\"page\"))"
   ]
  },
  {
   "cell_type": "code",
   "execution_count": 17,
   "metadata": {},
   "outputs": [],
   "source": [
    "# downgrade = f.udf(lambda x: 1 if x ==\"Downgrade\" else 0, IntegerType())\n",
    "# df = df.withColumn(\"downgrade\", downgrade(\"page\"))"
   ]
  },
  {
   "cell_type": "code",
   "execution_count": 18,
   "metadata": {},
   "outputs": [],
   "source": [
    "date = f.udf(lambda x: datetime.datetime.fromtimestamp(x/1000.0).strftime(\"%Y-%m-%d %H:%M:%S\"))\n",
    "df = df.withColumn(\"date\", date(\"ts\"))"
   ]
  },
  {
   "cell_type": "code",
   "execution_count": 19,
   "metadata": {},
   "outputs": [
    {
     "data": {
      "text/plain": [
       "[Row(artist=None, auth='Cancelled', firstName='Adriel', gender='M', itemInSession=104, lastName='Mendoza', length=None, level='paid', location='Kansas City, MO-KS', method='GET', page='Cancellation Confirmation', registration=1535623466000, sessionId=514, song=None, status=200, ts=1538943990000, userAgent='\"Mozilla/5.0 (Macintosh; Intel Mac OS X 10_9_4) AppleWebKit/537.77.4 (KHTML, like Gecko) Version/7.0.5 Safari/537.77.4\"', userId='18', time='20', userChurn=1, date='2018-10-07 20:26:30')]"
      ]
     },
     "execution_count": 19,
     "metadata": {},
     "output_type": "execute_result"
    }
   ],
   "source": [
    "df.filter(df.page == 'Cancellation Confirmation').take(1)"
   ]
  },
  {
   "cell_type": "code",
   "execution_count": 20,
   "metadata": {
    "scrolled": true
   },
   "outputs": [
    {
     "name": "stdout",
     "output_type": "stream",
     "text": [
      "+------+---------+-----+\n",
      "|gender|userChurn|count|\n",
      "+------+---------+-----+\n",
      "|     M|        1|   32|\n",
      "|     F|        0|  104|\n",
      "|     F|        1|   20|\n",
      "|     M|        0|  121|\n",
      "+------+---------+-----+\n",
      "\n"
     ]
    }
   ],
   "source": [
    "df.select(\"userId\",\"gender\",\"userChurn\").distinct().groupby(['gender',\"userChurn\"]).count().show()\n"
   ]
  },
  {
   "cell_type": "code",
   "execution_count": 22,
   "metadata": {},
   "outputs": [
    {
     "data": {
      "text/plain": [
       "<matplotlib.axes._subplots.AxesSubplot at 0x7f0869624860>"
      ]
     },
     "execution_count": 22,
     "metadata": {},
     "output_type": "execute_result"
    },
    {
     "data": {
      "image/png": "[encoded data removed]",
      "text/plain": [
       "<matplotlib.figure.Figure at 0x7f08a2cfdac8>"
      ]
     },
     "metadata": {
      "needs_background": "light"
     },
     "output_type": "display_data"
    }
   ],
   "source": [
    "churn_df = df.select(\"userId\",\"gender\",\"userChurn\").distinct().groupby(['gender',\"userChurn\"]).count().toPandas()\n",
    "sns.barplot(data=churn_df, x=\"userChurn\", y=\"count\", hue='gender')"
   ]
  },
  {
   "cell_type": "markdown",
   "metadata": {},
   "source": [
    "# Feature Engineering\n",
    "Once you've familiarized yourself with the data, build out the features you find promising to train your model on. To work with the full dataset, you can follow the following steps.\n",
    "- Write a script to extract the necessary features from the smaller subset of data\n",
    "- Ensure that your script is scalable, using the best practices discussed in Lesson 3\n",
    "- Try your script on the full data set, debugging your script if necessary\n",
    "\n",
    "If you are working in the classroom workspace, you can just extract features based on the small subset of data contained here. Be sure to transfer over this work to the larger dataset when you work on your Spark cluster."
   ]
  },
  {
   "cell_type": "markdown",
   "metadata": {},
   "source": [
    "data to be extracted: userId, nSongs, thumsUp, thumbsDown, rollAdvert, genderM, genderF, length, levelFree, levelPaid, userChurn"
   ]
  },
  {
   "cell_type": "code",
   "execution_count": 21,
   "metadata": {},
   "outputs": [
    {
     "data": {
      "text/plain": [
       "[Row(artist='Martha Tilston', auth='Logged In', firstName='Colin', gender='M', itemInSession=50, lastName='Freeman', length=277.89016, level='paid', location='Bakersfield, CA', method='PUT', page='NextSong', registration=1538173362000, sessionId=29, song='Rockpools', status=200, ts=1538352117000, userAgent='Mozilla/5.0 (Windows NT 6.1; WOW64; rv:31.0) Gecko/20100101 Firefox/31.0', userId='30', time='0', userChurn=0, date='2018-10-01 00:01:57')]"
      ]
     },
     "execution_count": 21,
     "metadata": {},
     "output_type": "execute_result"
    }
   ],
   "source": [
    "df.take(1)"
   ]
  },
  {
   "cell_type": "code",
   "execution_count": 22,
   "metadata": {},
   "outputs": [],
   "source": [
    "ml_data = df.select(\"userId\").distinct()"
   ]
  },
  {
   "cell_type": "code",
   "execution_count": 23,
   "metadata": {},
   "outputs": [],
   "source": [
    "n_songs = df.select(\"userId\").filter(df.page == 'NextSong').groupBy(\"userId\").count()\n",
    "ml_data = ml_data.join(n_songs.withColumnRenamed('count', 'nSongs'),on=[\"userId\"],how=\"left\")\n",
    "#ml_data.take(1)"
   ]
  },
  {
   "cell_type": "code",
   "execution_count": 24,
   "metadata": {},
   "outputs": [],
   "source": [
    "thumbs_up = df.select(\"userId\").filter(df.page == 'Thumbs Up').groupBy(\"userId\").count()\n",
    "thumbs_down = df.select(\"userId\").filter(df.page == 'Thumbs Down').groupBy(\"userId\").count()\n",
    "ml_data = ml_data.join(thumbs_up.withColumnRenamed('count', 'thumbsUp'),on=[\"userId\"],how=\"left\")\n",
    "ml_data = ml_data.join(thumbs_down.withColumnRenamed('count', 'thumbsDown'),on=[\"userId\"],how=\"left\")\n",
    "#ml_data.take(1)"
   ]
  },
  {
   "cell_type": "code",
   "execution_count": 25,
   "metadata": {},
   "outputs": [],
   "source": [
    "roll_advert = df.select(\"userId\").filter(df.page == 'Roll Advert').groupBy(\"userId\").count()\n",
    "ml_data = ml_data.join(roll_advert.withColumnRenamed('count', 'rollAdvert'),on=[\"userId\"],how=\"left\")\n",
    "#ml_data.take(1)"
   ]
  },
  {
   "cell_type": "code",
   "execution_count": 26,
   "metadata": {},
   "outputs": [],
   "source": [
    "female = df.select(\"userId\",\"gender\").groupby('userId').agg(f.first(f.when(f.col('gender') == \"F\", 1)).alias(\"female\"))\n",
    "female = female.na.fill(value=0)\n",
    "# female.show(5)\n",
    "\n",
    "ml_data = ml_data.join(female.withColumnRenamed('female', 'genderF'),on=[\"userId\"],how=\"left\")\n",
    "# ml_data.take(1)"
   ]
  },
  {
   "cell_type": "code",
   "execution_count": 27,
   "metadata": {},
   "outputs": [],
   "source": [
    "male = df.select(\"userId\",\"gender\").groupby('userId').agg(f.first(f.when(f.col('gender') == \"M\", 1)).alias(\"male\"))\n",
    "male = male.na.fill(value=0)\n",
    "# male.show(5)\n",
    "\n",
    "ml_data = ml_data.join(male.withColumnRenamed('male', 'genderM'),on=[\"userId\"],how=\"left\")\n",
    "# ml_data.take(1)"
   ]
  },
  {
   "cell_type": "code",
   "execution_count": 28,
   "metadata": {},
   "outputs": [],
   "source": [
    "free = df.select(\"userId\",\"level\").groupby('userId').agg(f.first(f.when(f.col('level') == \"free\", 1)).alias(\"free\"))\n",
    "free = free.na.fill(value=0)\n",
    "# free.show(5)\n",
    "\n",
    "ml_data = ml_data.join(free.withColumnRenamed('free', 'levelFree'),on=[\"userId\"],how=\"left\")\n",
    "# ml_data.take(1)"
   ]
  },
  {
   "cell_type": "code",
   "execution_count": 29,
   "metadata": {},
   "outputs": [],
   "source": [
    "paid = df.select(\"userId\",\"level\").groupby('userId').agg(f.first(f.when(f.col('level') == \"paid\", 1)).alias(\"paid\"))\n",
    "paid = paid.na.fill(value=0)\n",
    "# paid.show(5)\n",
    "\n",
    "ml_data = ml_data.join(paid.withColumnRenamed('paid', 'levelPaid'),on=[\"userId\"],how=\"left\")\n",
    "# ml_data.take(1)"
   ]
  },
  {
   "cell_type": "code",
   "execution_count": 30,
   "metadata": {},
   "outputs": [],
   "source": [
    "sessions_length = df.select(\"userId\",\"sessionId\",\"ts\")\\\n",
    ".groupby(['userId','sessionId'])\\\n",
    ".agg(((f.max('ts') - f.min('ts'))/1000)\\\n",
    ".alias('sessionlength'))\n",
    "avg_session = sessions_length.groupby(\"userId\").agg({\"sessionlength\": \"avg\"})\n",
    "# sessions_length.show(5)\n",
    "\n",
    "ml_data = ml_data.join(avg_session.withColumnRenamed('avg(sessionlength)', 'avgSessions'),on=[\"userId\"],how=\"left\")\n",
    "# ml_data.take(1)"
   ]
  },
  {
   "cell_type": "code",
   "execution_count": 31,
   "metadata": {},
   "outputs": [],
   "source": [
    "churn = df.select(\"userId\").filter(df.page == 'Cancellation Confirmation').groupby(\"UserId\").count()\n",
    "churn = churn.na.fill(value=0)\n",
    "# churn.show(5)\n",
    "\n",
    "ml_data = ml_data.join(churn.withColumnRenamed('count', 'userChurn'),on=[\"userId\"],how=\"left\")\n",
    "# ml_data.take(1)"
   ]
  },
  {
   "cell_type": "code",
   "execution_count": 32,
   "metadata": {},
   "outputs": [
    {
     "name": "stdout",
     "output_type": "stream",
     "text": [
      "+------+------+--------+----------+----------+-------+-------+---------+---------+-----------------+---------+\n",
      "|userId|nSongs|thumbsUp|thumbsDown|rollAdvert|genderF|genderM|levelFree|levelPaid|      avgSessions|userChurn|\n",
      "+------+------+--------+----------+----------+-------+-------+---------+---------+-----------------+---------+\n",
      "|100010|   275|      17|         5|        52|      1|      0|        1|        0|           9269.0|        0|\n",
      "|200002|   387|      21|         6|         7|      0|      1|        1|        0|          15984.0|        0|\n",
      "|   125|     8|       0|         0|         1|      0|      1|        1|        0|           1774.0|        1|\n",
      "|    51|  2111|     100|        21|         0|      0|      1|        0|        1|          52341.4|        1|\n",
      "|   124|  4079|     171|        41|         4|      1|      0|        0|        1|34739.65517241379|        0|\n",
      "+------+------+--------+----------+----------+-------+-------+---------+---------+-----------------+---------+\n",
      "only showing top 5 rows\n",
      "\n"
     ]
    }
   ],
   "source": [
    "ml_data = ml_data.na.fill(value=0)\n",
    "ml_data.show(5)"
   ]
  },
  {
   "cell_type": "markdown",
   "metadata": {},
   "source": [
    "# Modeling\n",
    "Split the full dataset into train, test, and validation sets. Test out several of the machine learning methods you learned. Evaluate the accuracy of the various models, tuning parameters as necessary. Determine your winning model based on test accuracy and report results on the validation set. Since the churned users are a fairly small subset, I suggest using F1 score as the metric to optimize."
   ]
  },
  {
   "cell_type": "code",
   "execution_count": 33,
   "metadata": {},
   "outputs": [
    {
     "name": "stdout",
     "output_type": "stream",
     "text": [
      "+------+------+--------+----------+----------+-------+-------+---------+---------+-----------------+---------+\n",
      "|userId|nSongs|thumbsUp|thumbsDown|rollAdvert|genderF|genderM|levelFree|levelPaid|      avgSessions|userChurn|\n",
      "+------+------+--------+----------+----------+-------+-------+---------+---------+-----------------+---------+\n",
      "|100010|   275|      17|         5|        52|      1|      0|        1|        0|           9269.0|      0.0|\n",
      "|200002|   387|      21|         6|         7|      0|      1|        1|        0|          15984.0|      0.0|\n",
      "|   125|     8|       0|         0|         1|      0|      1|        1|        0|           1774.0|      1.0|\n",
      "|    51|  2111|     100|        21|         0|      0|      1|        0|        1|          52341.4|      1.0|\n",
      "|   124|  4079|     171|        41|         4|      1|      0|        0|        1|34739.65517241379|      0.0|\n",
      "+------+------+--------+----------+----------+-------+-------+---------+---------+-----------------+---------+\n",
      "only showing top 5 rows\n",
      "\n"
     ]
    }
   ],
   "source": [
    "# string to numeric conversion\n",
    "for column in ml_data.columns:\n",
    "    features = ml_data.withColumn(column, ml_data[column].cast(\"float\"))\n",
    "    \n",
    "features.show(5)"
   ]
  },
  {
   "cell_type": "code",
   "execution_count": 34,
   "metadata": {},
   "outputs": [],
   "source": [
    "cols = [\"nSongs\", \"thumbsUp\", \"thumbsDown\", \"rollAdvert\", \"genderF\", \"genderM\", \"levelFree\", \"levelPaid\", \"avgSessions\"]\n",
    "assembler = VectorAssembler(inputCols=cols, outputCol=\"featuresVec\", )\n",
    "data = assembler.transform(features)\n",
    "\n",
    "scaler = StandardScaler(inputCol=\"featuresVec\", outputCol=\"featuresVecScaled\", withStd=True)\n",
    "data_scaled_fit = scaler.fit(data)\n",
    "data_scaled = data_scaled_fit.transform(data)"
   ]
  },
  {
   "cell_type": "code",
   "execution_count": 35,
   "metadata": {},
   "outputs": [
    {
     "name": "stdout",
     "output_type": "stream",
     "text": [
      "+-----+--------------------+\n",
      "|label|            features|\n",
      "+-----+--------------------+\n",
      "|  0.0|[0.24887761207221...|\n",
      "|  0.0|[0.35023867589799...|\n",
      "|  1.0|[0.00724007598755...|\n",
      "|  1.0|[1.91047505121618...|\n",
      "|  0.0|[3.69153374415482...|\n",
      "+-----+--------------------+\n",
      "only showing top 5 rows\n",
      "\n"
     ]
    }
   ],
   "source": [
    "transformed_data = data_scaled.select(data.userChurn.alias(\"label\"), data_scaled.featuresVecScaled.alias(\"features\"))\n",
    "transformed_data.show(5)"
   ]
  },
  {
   "cell_type": "code",
   "execution_count": 36,
   "metadata": {},
   "outputs": [],
   "source": [
    "train, test = transformed_data.randomSplit([0.80, 0.20], seed=100)"
   ]
  },
  {
   "cell_type": "code",
   "execution_count": 37,
   "metadata": {},
   "outputs": [],
   "source": [
    "def train_test_eval(estimator, paramGrid):\n",
    "    evaluator = MulticlassClassificationEvaluator(predictionCol=\"prediction\", labelCol=\"label\")\n",
    "    \n",
    "    cv = CrossValidator(estimator=estimator, estimatorParamMaps=paramGrid, evaluator=evaluator, numFolds=3)\n",
    "    cv_fit = cv.fit(train)\n",
    "\n",
    "    print(cv_fit.bestModel)\n",
    "    #cv_fit.bestModel.params\n",
    "\n",
    "    f1_score_train = evaluator.evaluate(cv_fit.transform(train), {evaluator.metricName: \"f1\"})\n",
    "    print(f\"f1-score (train): {f1_score_train}\")\n",
    "\n",
    "    pred = cv_fit.transform(test)\n",
    "    f1_score_test = evaluator.evaluate(pred, {evaluator.metricName: \"f1\"})\n",
    "    print(f\"f1-score (test): {f1_score_test}\")"
   ]
  },
  {
   "cell_type": "code",
   "execution_count": 123,
   "metadata": {},
   "outputs": [
    {
     "name": "stdout",
     "output_type": "stream",
     "text": [
      "DecisionTreeClassificationModel (uid=DecisionTreeClassifier_3fdad465d514) of depth 8 with 57 nodes\n",
      "f1-score (train): 0.9125852276672268\n",
      "f1-score (test): 0.6821326821326821\n"
     ]
    }
   ],
   "source": [
    "DT = DecisionTreeClassifier()\n",
    "paramGrid = ParamGridBuilder()\\\n",
    ".addGrid(DT.impurity,['entropy', 'gini'])\\\n",
    ".addGrid(DT.maxDepth,[2, 5, 8])\\\n",
    ".build()\n",
    "\n",
    "train_test_eval(estimator=DT, paramGrid=paramGrid)"
   ]
  },
  {
   "cell_type": "code",
   "execution_count": 51,
   "metadata": {},
   "outputs": [
    {
     "name": "stdout",
     "output_type": "stream",
     "text": [
      "LogisticRegressionModel: uid = LogisticRegression_1158b81eb2a1, numClasses = 2, numFeatures = 9\n",
      "f1-score (train): 0.6756598240469208\n",
      "f1-score (test): 0.6342383107088989\n"
     ]
    }
   ],
   "source": [
    "LR = LogisticRegression(labelCol=\"label\", featuresCol=\"features\")\n",
    "paramGrid = ParamGridBuilder()\\\n",
    ".addGrid(LR.elasticNetParam,[0.5, 1.0])\\\n",
    ".addGrid(LR.regParam,[0.05, 0.1])\\\n",
    ".build()\n",
    "\n",
    "train_test_eval(estimator=LR, paramGrid=paramGrid)"
   ]
  },
  {
   "cell_type": "code",
   "execution_count": 38,
   "metadata": {},
   "outputs": [
    {
     "name": "stdout",
     "output_type": "stream",
     "text": [
      "RandomForestClassificationModel (uid=RandomForestClassifier_bd98ac05f698) with 10 trees\n",
      "f1-score (train): 0.9494428152492669\n",
      "f1-score (test): 0.6215078453884424\n"
     ]
    }
   ],
   "source": [
    "RF = RandomForestClassifier(labelCol=\"label\", featuresCol=\"features\")\n",
    "paramGrid=ParamGridBuilder()\\\n",
    ".addGrid(RF.maxDepth,[5, 10])\\\n",
    ".addGrid(RF.impurity,['entropy', 'gini'])\\\n",
    ".addGrid(RF.numTrees,[10, 40])\\\n",
    ".build()\n",
    "\n",
    "train_test_eval(estimator=RF, paramGrid=paramGrid)"
   ]
  },
  {
   "cell_type": "code",
   "execution_count": 39,
   "metadata": {},
   "outputs": [
    {
     "name": "stdout",
     "output_type": "stream",
     "text": [
      "GBTClassificationModel (uid=GBTClassifier_42a34dd37807) with 10 trees\n",
      "f1-score (train): 0.9494428152492669\n",
      "f1-score (test): 0.6999975273842197\n"
     ]
    }
   ],
   "source": [
    "GBT = GBTClassifier(labelCol=\"label\", featuresCol=\"features\")\n",
    "paramGrid = ParamGridBuilder()\\\n",
    ".addGrid(GBT.maxIter,[10, 20])\\\n",
    ".addGrid(GBT.maxDepth,[5, 10])\\\n",
    ".build()\n",
    "\n",
    "train_test_eval(estimator=GBT, paramGrid=paramGrid)"
   ]
  },
  {
   "cell_type": "markdown",
   "metadata": {},
   "source": [
    "# Final Steps\n",
    "Clean up your code, adding comments and renaming variables to make the code easier to read and maintain. Refer to the Spark Project Overview page and Data Scientist Capstone Project Rubric to make sure you are including all components of the capstone project and meet all expectations. Remember, this includes thorough documentation in a README file in a Github repository, as well as a web app or blog post."
   ]
  },
  {
   "cell_type": "code",
   "execution_count": null,
   "metadata": {},
   "outputs": [],
   "source": []
  }
 ],
 "metadata": {
  "kernelspec": {
   "display_name": "Python 3",
   "language": "python",
   "name": "python3"
  },
  "language_info": {
   "codemirror_mode": {
    "name": "ipython",
    "version": 3
   },
   "file_extension": ".py",
   "mimetype": "text/x-python",
   "name": "python",
   "nbconvert_exporter": "python",
   "pygments_lexer": "ipython3",
   "version": "3.6.3"
  }
 },
 "nbformat": 4,
 "nbformat_minor": 2
}
